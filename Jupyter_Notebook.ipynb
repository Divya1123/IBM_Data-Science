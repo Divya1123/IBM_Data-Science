{
 "cells": [
  {
   "cell_type": "markdown",
   "metadata": {},
   "source": [
    "<center>\n",
    "    <img src=\"https://cf-courses-data.s3.us.cloud-object-storage.appdomain.cloud/IBMDeveloperSkillsNetwork-DS0105EN-SkillsNetwork/labs/Module2/images/SN_web_lightmode.png\" width=\"300\" alt=\"cognitiveclass.ai logo\"  />\n",
    "</center>\n"
   ]
  },
  {
   "cell_type": "markdown",
   "metadata": {},
   "source": [
    "#### Add your code below following the instructions given in the course\n"
   ]
  },
  {
   "cell_type": "markdown",
   "metadata": {},
   "source": [
    "# My Jupyter Notebook on IBM Watson Studio"
   ]
  },
  {
   "cell_type": "markdown",
   "metadata": {},
   "source": [
    "**Divya Gusain**  \n",
    "Developer"
   ]
  },
  {
   "cell_type": "markdown",
   "metadata": {},
   "source": [
    "*I am interested in data science because data is a powerful and it can change the way businesses and industries work.  \n",
    "Data science is way to do that, with data science we can find the insights and knowledge from data which can help people in many ways including better business, finding cure and prevention of disease.  \n",
    "I want to work in data science so I can contribute in creating a better world and to being positive impact on people.*  "
   ]
  },
  {
   "cell_type": "markdown",
   "metadata": {},
   "source": [
    "### Below code print the multiplication of two numbers"
   ]
  },
  {
   "cell_type": "code",
   "execution_count": 1,
   "metadata": {},
   "outputs": [
    {
     "name": "stdout",
     "output_type": "stream",
     "text": [
      "10\n"
     ]
    }
   ],
   "source": [
    "print(5*2)"
   ]
  },
  {
   "cell_type": "markdown",
   "metadata": {},
   "source": [
    "**Table**  \n",
    "|Name|ID|  \n",
    "|----|---|\n",
    "|Divya|1|\n",
    "\n",
    "**Hyperlinks**  \n",
    "<a href=\"https://www.google.com/search?q=image+of+dog&sxsrf=AJOqlzX5PUT7vE3Jn7G1BdO32oTImN-tng:1674644255878&source=lnms&tbm=isch&sa=X&ved=2ahUKEwiQr_z_x-L8AhWDTWwGHWD0A7AQ_AUoAXoECAEQAw&biw=1536&bih=714&dpr=1.25#imgrc=1te1HVeyj9G6qM\">Click Here</a>\n",
    "\n",
    "**Horizontal rule**   \n",
    "Below is the horizontal rule\n",
    "***  \n",
    "\n",
    "**Python Code highlight** \n",
    "```python \n",
    "def output():\n",
    "    print(\"Hello World\")\n",
    "````"
   ]
  }
 ],
 "metadata": {
  "kernelspec": {
   "display_name": "Python",
   "language": "python",
   "name": "conda-env-python-py"
  },
  "language_info": {
   "codemirror_mode": {
    "name": "ipython",
    "version": 3
   },
   "file_extension": ".py",
   "mimetype": "text/x-python",
   "name": "python",
   "nbconvert_exporter": "python",
   "pygments_lexer": "ipython3",
   "version": "3.7.12"
  }
 },
 "nbformat": 4,
 "nbformat_minor": 4
}
